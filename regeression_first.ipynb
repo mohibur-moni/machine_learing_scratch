{
 "cells":[
  {
   "cell_type":"markdown",
   "source":[
    "# Sheet"
   ],
   "attachments":{
    
   },
   "metadata":{
    "datalore":{
     "node_id":"Sheet",
     "type":"MD",
     "hide_input_from_viewers":false,
     "hide_output_from_viewers":false,
     "sheet_delimiter":true
    }
   }
  },
  {
   "cell_type":"code",
   "source":[
    "import pandas as pd\n",
    "import matplotlib.pyplot as plt\n",
    "from sklearn.model_selection import train_test_split\n",
    "from sklearn.linear_model import LinearRegression\n",
    "from sklearn.metrics import mean_squared_error\n",
    "import pickle as pk\n",
    "data = pd.read_csv('Height-Weight Data.csv')"
   ],
   "execution_count":70,
   "outputs":[
    
   ],
   "metadata":{
    "datalore":{
     "node_id":"PeSUrkyaPef95c8T7LR9EJ",
     "type":"CODE",
     "hide_input_from_viewers":false,
     "hide_output_from_viewers":false,
     "report_properties":{
      "y":0
     }
    }
   }
  },
  {
   "cell_type":"code",
   "source":[
    "# data visuaalitaion \n",
    "\n",
    "plt.xlabel('Height')\n",
    "plt.ylabel('Weight')\n",
    "plt.title('Height and Weigth Table ')\n",
    "\n",
    "plt.scatter(data['Height'], data['Weight'], color='cyan')"
   ],
   "execution_count":50,
   "outputs":[
    {
     "data":{
      "text\/plain":[
       "<matplotlib.collections.PathCollection at 0x7f1e1313b640>"
      ]
     },
     "metadata":{
      
     },
     "output_type":"display_data"
    },
    {
     "data":{
      "image\/png":"[encoded data removed]"
     },
     "metadata":{
      "image\/png":{
       
      }
     },
     "output_type":"display_data"
    }
   ],
   "metadata":{
    "datalore":{
     "node_id":"O6aDaufe6geRhfZORffkeo",
     "type":"CODE",
     "hide_input_from_viewers":false,
     "hide_output_from_viewers":false,
     "report_properties":{
      "y":6
     }
    }
   }
  },
  {
   "cell_type":"code",
   "source":[
    "x = data.drop(('Weight'),axis=1)\n",
    "y = data.drop(('Height'), axis=1)\n",
    "\n",
    "x.iloc[1479] # checking the data\n",
    "print()"
   ],
   "execution_count":51,
   "outputs":[
    {
     "name":"stdout",
     "text":[
      "\n"
     ],
     "output_type":"stream"
    }
   ],
   "metadata":{
    "datalore":{
     "node_id":"UIOvvVNWTzrGxnNbi4RnhA",
     "type":"CODE",
     "hide_input_from_viewers":false,
     "hide_output_from_viewers":false,
     "report_properties":{
      "y":21
     }
    }
   }
  },
  {
   "cell_type":"code",
   "source":[
    "# train data, test data\n",
    "\n",
    "\n",
    "xtrain, xtest, ytrain, ytest = train_test_split(x,y, test_size=.30) # train_size = 1-.30 \/ .70\n",
    "lr = LinearRegression()"
   ],
   "execution_count":52,
   "outputs":[
    
   ],
   "metadata":{
    "datalore":{
     "node_id":"CH7TbIIPYCTHmSsdwtZfdW",
     "type":"CODE",
     "hide_input_from_viewers":false,
     "hide_output_from_viewers":false,
     "report_properties":{
      "y":28
     }
    }
   }
  },
  {
   "cell_type":"code",
   "source":[
    "lr.fit(xtrain, ytrain)\n",
    "\n",
    "m = lr.coef_ \n",
    "print(type(m))\n",
    "c =lr.intercept_"
   ],
   "execution_count":53,
   "outputs":[
    {
     "name":"stdout",
     "text":[
      "<class 'numpy.ndarray'>\n"
     ],
     "output_type":"stream"
    }
   ],
   "metadata":{
    "datalore":{
     "node_id":"bdyY966vDckoAE2V6NQsUM",
     "type":"CODE",
     "hide_input_from_viewers":false,
     "hide_output_from_viewers":false,
     "report_properties":{
      "y":33
     }
    }
   }
  },
  {
   "cell_type":"code",
   "source":[
    "# y = mx + c\n",
    "y = m * 70 + c\n",
    "print(y)\n",
    "lr.predict([[70]])  # cheking model \n",
    "\n",
    "\n",
    "\n",
    "lr.score(xtest, ytest)\n",
    "\n",
    "data[\"new_weight\"] = lr.predict(x)\n",
    "\n",
    "pred = lr.predict(xtest)\n",
    "\n",
    "error = mean_squared_error(ytest, pred)\n",
    "error"
   ],
   "execution_count":63,
   "outputs":[
    {
     "name":"stdout",
     "text":[
      "[[192.61151637]]\n"
     ],
     "output_type":"stream"
    },
    {
     "data":{
      "text\/plain":[
       "106.59452995327658"
      ]
     },
     "metadata":{
      
     },
     "output_type":"display_data"
    }
   ],
   "metadata":{
    "datalore":{
     "node_id":"xXJucGQcPjzJaZJRE28Anw",
     "type":"CODE",
     "hide_input_from_viewers":false,
     "hide_output_from_viewers":false,
     "report_properties":{
      "y":40
     }
    }
   }
  },
  {
   "cell_type":"code",
   "source":[
    "plt.xlabel('Height')\n",
    "plt.ylabel('Weight')\n",
    "plt.title('Height and Weigth Table ')\n",
    "\n",
    "plt.scatter(data['Height'], data['Weight'], color='cyan')\n",
    "plt.plot(data.Height, lr.predict(x))\n",
    "\n"
   ],
   "execution_count":69,
   "outputs":[
    {
     "data":{
      "text\/plain":[
       "[<matplotlib.lines.Line2D at 0x7f1e1256f910>]"
      ]
     },
     "metadata":{
      
     },
     "output_type":"display_data"
    },
    {
     "data":{
      "image\/png":"[encoded data removed]"
     },
     "metadata":{
      "image\/png":{
       
      }
     },
     "output_type":"display_data"
    }
   ],
   "metadata":{
    "datalore":{
     "node_id":"q7Y5WuPXTaIzH16lMaE6fw",
     "type":"CODE",
     "hide_input_from_viewers":false,
     "hide_output_from_viewers":false,
     "report_properties":{
      "y":52
     }
    }
   }
  },
  {
   "cell_type":"code",
   "source":[
    "pk.dump(lr, open('my_picle', 'wb'))"
   ],
   "execution_count":72,
   "outputs":[
    
   ],
   "metadata":{
    "datalore":{
     "node_id":"9RMLz1oHm7JHSijIYaQ1lU",
     "type":"CODE",
     "hide_input_from_viewers":false,
     "hide_output_from_viewers":false,
     "report_properties":{
      "y":67
     }
    }
   }
  },
  {
   "cell_type":"markdown",
   "source":[
    "# Sheet 2"
   ],
   "attachments":{
    
   },
   "metadata":{
    "datalore":{
     "node_id":"Sheet 2",
     "type":"MD",
     "hide_input_from_viewers":false,
     "hide_output_from_viewers":false,
     "sheet_delimiter":true
    }
   }
  },
  {
   "cell_type":"code",
   "source":[
    "import pickle as pk\n",
    "\n",
    "model = pk.load(open('my_picle', 'rb'))\n",
    "model.predict([[100]])"
   ],
   "execution_count":77,
   "outputs":[
    {
     "name":"stderr",
     "text":[
      "\/opt\/python\/envs\/default\/lib\/python3.8\/site-packages\/sklearn\/base.py:445: UserWarning: X does not have valid feature names, but LinearRegression was fitted with feature names\n",
      "  warnings.warn(\n"
     ],
     "output_type":"stream"
    },
    {
     "data":{
      "text\/html":[
       "<pre>array([[369.89743017]])<\/pre>"
      ]
     },
     "metadata":{
      
     },
     "output_type":"display_data"
    }
   ],
   "metadata":{
    "datalore":{
     "node_id":"RrFTOQqWC1N7sa4CikM5Wh",
     "type":"CODE",
     "hide_input_from_viewers":false,
     "hide_output_from_viewers":false,
     "report_properties":{
      "y":70
     }
    }
   }
  }
 ],
 "metadata":{
  "kernelspec":{
   "display_name":"Python",
   "language":"python",
   "name":"python"
  },
  "datalore":{
   "version":1,
   "computation_mode":"JUPYTER",
   "package_manager":"pip",
   "base_environment":"default",
   "packages":[
    
   ]
  }
 },
 "nbformat":4,
 "nbformat_minor":4
}