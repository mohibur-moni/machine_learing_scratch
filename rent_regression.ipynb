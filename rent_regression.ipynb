{
 "cells":[
  {
   "cell_type":"markdown",
   "source":[
    "# Sheet 2"
   ],
   "attachments":{
    
   },
   "metadata":{
    "datalore":{
     "node_id":"Sheet 2",
     "type":"MD",
     "hide_input_from_viewers":false,
     "hide_output_from_viewers":false,
     "sheet_delimiter":true
    }
   }
  },
  {
   "cell_type":"code",
   "source":[
    "import pickle as pk\n",
    "\n",
    "model = pk.load(open('my_picle', 'rb'))\n",
    "model.predict([[100]])"
   ],
   "execution_count":77,
   "outputs":[
    {
     "name":"stderr",
     "text":[
      "\/opt\/python\/envs\/default\/lib\/python3.8\/site-packages\/sklearn\/base.py:445: UserWarning: X does not have valid feature names, but LinearRegression was fitted with feature names\n",
      "  warnings.warn(\n"
     ],
     "output_type":"stream"
    },
    {
     "data":{
      "text\/html":[
       "<pre>array([[369.89743017]])<\/pre>"
      ]
     },
     "metadata":{
      
     },
     "output_type":"display_data"
    }
   ],
   "metadata":{
    "datalore":{
     "node_id":"RrFTOQqWC1N7sa4CikM5Wh",
     "type":"CODE",
     "hide_input_from_viewers":false,
     "hide_output_from_viewers":false,
     "report_properties":{
      "y":70
     }
    }
   }
  },
  {
   "cell_type":"markdown",
   "source":[
    "# prediction_rent"
   ],
   "attachments":{
    
   },
   "metadata":{
    "datalore":{
     "node_id":"prediction_rent",
     "type":"MD",
     "hide_input_from_viewers":false,
     "hide_output_from_viewers":false,
     "sheet_delimiter":true
    }
   }
  },
  {
   "cell_type":"code",
   "source":[
    "# importing libraries \n",
    "import pandas as pd # for importing csv files\n",
    "import matplotlib.pyplot as plt # for plotting\n",
    "from sklearn.model_selection import train_test_split # for splitting data to test and train\n",
    "from sklearn.linear_model import LinearRegression # for linear regression\n",
    "from sklearn.metrics import mean_squared_error # for checking error\n"
   ],
   "execution_count":60,
   "outputs":[
    
   ],
   "metadata":{
    "datalore":{
     "node_id":"qiuuCT78Le4mDqGe2HfyKo",
     "type":"CODE",
     "hide_input_from_viewers":true,
     "hide_output_from_viewers":true
    }
   }
  },
  {
   "cell_type":"code",
   "source":[
    "\n",
    "#data = pd.read_excel('rent_data.xlsx', engine='openpyxl') # importing file\n",
    "df = pd.read_csv('rent_data_csv.csv')\n",
    "df.count()"
   ],
   "execution_count":27,
   "outputs":[
    {
     "data":{
      "text\/html":[
       "<pre>area    29\n",
       "rent    29\n",
       "dtype: int64<\/pre>"
      ]
     },
     "metadata":{
      
     },
     "output_type":"display_data"
    }
   ],
   "metadata":{
    "datalore":{
     "node_id":"KeoJpK0denR4YUkyGqrjxs",
     "type":"CODE",
     "hide_input_from_viewers":true,
     "hide_output_from_viewers":true
    }
   }
  },
  {
   "cell_type":"code",
   "source":[
    "# simple visualization \n",
    "\n",
    "plt.xlabel('area')\n",
    "plt.ylabel('rent')\n",
    "\n",
    "plt.scatter(df['area'], df['rent'])"
   ],
   "execution_count":26,
   "outputs":[
    {
     "data":{
      "text\/plain":[
       "<matplotlib.collections.PathCollection at 0x7f63bdde87f0>"
      ]
     },
     "metadata":{
      
     },
     "output_type":"display_data"
    },
    {
     "data":{
      "image\/png":"[encoded data removed]"
     },
     "metadata":{
      "image\/png":{
       
      }
     },
     "output_type":"display_data"
    }
   ],
   "metadata":{
    "datalore":{
     "node_id":"sJxHLude6mlSM6PfWLqykk",
     "type":"CODE",
     "hide_input_from_viewers":true,
     "hide_output_from_viewers":true
    }
   }
  },
  {
   "cell_type":"code",
   "source":[
    "# data preparetion \n",
    "# for simplicity, changing variable name and saving data\n",
    "x = df.drop(('rent'),axis=1) \n",
    "y = df.drop(('area'), axis=1)"
   ],
   "execution_count":42,
   "outputs":[
    
   ],
   "metadata":{
    "datalore":{
     "node_id":"RytTfEQuHwlzXl4LAmzPek",
     "type":"CODE",
     "hide_input_from_viewers":true,
     "hide_output_from_viewers":true
    }
   }
  },
  {
   "cell_type":"code",
   "source":[
    "# seplitting train and test data\n",
    "xtrain, xtest, ytrain, ytest = train_test_split(x,y, train_size=.40) # $ 40% data for train"
   ],
   "execution_count":43,
   "outputs":[
    
   ],
   "metadata":{
    "datalore":{
     "node_id":"vhLqHIGfwVZ1Ry574MxZUD",
     "type":"CODE",
     "hide_input_from_viewers":true,
     "hide_output_from_viewers":true
    }
   }
  },
  {
   "cell_type":"code",
   "source":[
    "# feeding data \n",
    "model_ = LinearRegression() # making object \n",
    "model_.fit(xtrain, ytrain) # feeding data to train\n",
    "model_.score(xtest,ytest) # accuracy"
   ],
   "execution_count":46,
   "outputs":[
    {
     "data":{
      "text\/plain":[
       "0.9326636255121139"
      ]
     },
     "metadata":{
      
     },
     "output_type":"display_data"
    }
   ],
   "metadata":{
    "datalore":{
     "node_id":"KqvR02X5pbQ9eNKLsOcQXm",
     "type":"CODE",
     "hide_input_from_viewers":true,
     "hide_output_from_viewers":true
    }
   }
  },
  {
   "cell_type":"code",
   "source":[
    "# cheking the model \n",
    "# m = model_.coef_\n",
    "# c = model_.intercept_\n",
    "df['predicted_rent'] = model_.predict(x) # comparing previous rent with new rent\n",
    "df"
   ],
   "execution_count":51,
   "outputs":[
    {
     "data":{
      "text\/html":[
       "<div>\n",
       "<style scoped>\n",
       "    .dataframe tbody tr th:only-of-type {\n",
       "        vertical-align: middle;\n",
       "    }\n",
       "\n",
       "    .dataframe tbody tr th {\n",
       "        vertical-align: top;\n",
       "    }\n",
       "\n",
       "    .dataframe thead th {\n",
       "        text-align: right;\n",
       "    }\n",
       "<\/style>\n",
       "<table border=\"1\" class=\"dataframe\">\n",
       "  <thead>\n",
       "    <tr style=\"text-align: right;\">\n",
       "      <th><\/th>\n",
       "      <th>area<\/th>\n",
       "      <th>rent<\/th>\n",
       "      <th>predicted_rent<\/th>\n",
       "    <\/tr>\n",
       "  <\/thead>\n",
       "  <tbody>\n",
       "    <tr>\n",
       "      <th>0<\/th>\n",
       "      <td>2000<\/td>\n",
       "      <td>31500<\/td>\n",
       "      <td>29988.761121<\/td>\n",
       "    <\/tr>\n",
       "    <tr>\n",
       "      <th>1<\/th>\n",
       "      <td>2100<\/td>\n",
       "      <td>35000<\/td>\n",
       "      <td>32328.511786<\/td>\n",
       "    <\/tr>\n",
       "    <tr>\n",
       "      <th>2<\/th>\n",
       "      <td>2500<\/td>\n",
       "      <td>41050<\/td>\n",
       "      <td>41687.514447<\/td>\n",
       "    <\/tr>\n",
       "    <tr>\n",
       "      <th>3<\/th>\n",
       "      <td>2250<\/td>\n",
       "      <td>36100<\/td>\n",
       "      <td>35838.137784<\/td>\n",
       "    <\/tr>\n",
       "    <tr>\n",
       "      <th>4<\/th>\n",
       "      <td>3000<\/td>\n",
       "      <td>52100<\/td>\n",
       "      <td>53386.267772<\/td>\n",
       "    <\/tr>\n",
       "    <tr>\n",
       "      <th>5<\/th>\n",
       "      <td>1900<\/td>\n",
       "      <td>32500<\/td>\n",
       "      <td>27649.010456<\/td>\n",
       "    <\/tr>\n",
       "    <tr>\n",
       "      <th>6<\/th>\n",
       "      <td>1500<\/td>\n",
       "      <td>20000<\/td>\n",
       "      <td>18290.007796<\/td>\n",
       "    <\/tr>\n",
       "    <tr>\n",
       "      <th>7<\/th>\n",
       "      <td>1850<\/td>\n",
       "      <td>24500<\/td>\n",
       "      <td>26479.135123<\/td>\n",
       "    <\/tr>\n",
       "    <tr>\n",
       "      <th>8<\/th>\n",
       "      <td>2700<\/td>\n",
       "      <td>48000<\/td>\n",
       "      <td>46367.015777<\/td>\n",
       "    <\/tr>\n",
       "    <tr>\n",
       "      <th>9<\/th>\n",
       "      <td>2100<\/td>\n",
       "      <td>31000<\/td>\n",
       "      <td>32328.511786<\/td>\n",
       "    <\/tr>\n",
       "    <tr>\n",
       "      <th>10<\/th>\n",
       "      <td>2150<\/td>\n",
       "      <td>34500<\/td>\n",
       "      <td>33498.387119<\/td>\n",
       "    <\/tr>\n",
       "    <tr>\n",
       "      <th>11<\/th>\n",
       "      <td>2100<\/td>\n",
       "      <td>32000<\/td>\n",
       "      <td>32328.511786<\/td>\n",
       "    <\/tr>\n",
       "    <tr>\n",
       "      <th>12<\/th>\n",
       "      <td>2100<\/td>\n",
       "      <td>34500<\/td>\n",
       "      <td>32328.511786<\/td>\n",
       "    <\/tr>\n",
       "    <tr>\n",
       "      <th>13<\/th>\n",
       "      <td>2510<\/td>\n",
       "      <td>40050<\/td>\n",
       "      <td>41921.489513<\/td>\n",
       "    <\/tr>\n",
       "    <tr>\n",
       "      <th>14<\/th>\n",
       "      <td>2250<\/td>\n",
       "      <td>34100<\/td>\n",
       "      <td>35838.137784<\/td>\n",
       "    <\/tr>\n",
       "    <tr>\n",
       "      <th>15<\/th>\n",
       "      <td>3100<\/td>\n",
       "      <td>51500<\/td>\n",
       "      <td>55726.018437<\/td>\n",
       "    <\/tr>\n",
       "    <tr>\n",
       "      <th>16<\/th>\n",
       "      <td>1800<\/td>\n",
       "      <td>30500<\/td>\n",
       "      <td>25309.259791<\/td>\n",
       "    <\/tr>\n",
       "    <tr>\n",
       "      <th>17<\/th>\n",
       "      <td>1550<\/td>\n",
       "      <td>21000<\/td>\n",
       "      <td>19459.883128<\/td>\n",
       "    <\/tr>\n",
       "    <tr>\n",
       "      <th>18<\/th>\n",
       "      <td>1800<\/td>\n",
       "      <td>25000<\/td>\n",
       "      <td>25309.259791<\/td>\n",
       "    <\/tr>\n",
       "    <tr>\n",
       "      <th>19<\/th>\n",
       "      <td>2700<\/td>\n",
       "      <td>47000<\/td>\n",
       "      <td>46367.015777<\/td>\n",
       "    <\/tr>\n",
       "    <tr>\n",
       "      <th>20<\/th>\n",
       "      <td>2110<\/td>\n",
       "      <td>31500<\/td>\n",
       "      <td>32562.486853<\/td>\n",
       "    <\/tr>\n",
       "    <tr>\n",
       "      <th>21<\/th>\n",
       "      <td>2100<\/td>\n",
       "      <td>33500<\/td>\n",
       "      <td>32328.511786<\/td>\n",
       "    <\/tr>\n",
       "    <tr>\n",
       "      <th>22<\/th>\n",
       "      <td>3500<\/td>\n",
       "      <td>70000<\/td>\n",
       "      <td>65085.021098<\/td>\n",
       "    <\/tr>\n",
       "    <tr>\n",
       "      <th>23<\/th>\n",
       "      <td>1200<\/td>\n",
       "      <td>20000<\/td>\n",
       "      <td>11270.755800<\/td>\n",
       "    <\/tr>\n",
       "    <tr>\n",
       "      <th>24<\/th>\n",
       "      <td>2800<\/td>\n",
       "      <td>50000<\/td>\n",
       "      <td>48706.766442<\/td>\n",
       "    <\/tr>\n",
       "    <tr>\n",
       "      <th>25<\/th>\n",
       "      <td>3100<\/td>\n",
       "      <td>53000<\/td>\n",
       "      <td>55726.018437<\/td>\n",
       "    <\/tr>\n",
       "    <tr>\n",
       "      <th>26<\/th>\n",
       "      <td>2750<\/td>\n",
       "      <td>48000<\/td>\n",
       "      <td>47536.891109<\/td>\n",
       "    <\/tr>\n",
       "    <tr>\n",
       "      <th>27<\/th>\n",
       "      <td>1800<\/td>\n",
       "      <td>25000<\/td>\n",
       "      <td>25309.259791<\/td>\n",
       "    <\/tr>\n",
       "    <tr>\n",
       "      <th>28<\/th>\n",
       "      <td>2200<\/td>\n",
       "      <td>31460<\/td>\n",
       "      <td>34668.262451<\/td>\n",
       "    <\/tr>\n",
       "  <\/tbody>\n",
       "<\/table>\n",
       "<\/div>"
      ]
     },
     "metadata":{
      
     },
     "output_type":"display_data"
    }
   ],
   "metadata":{
    "datalore":{
     "node_id":"YVxByLPMDFgfPrzoRnkC4K",
     "type":"CODE",
     "hide_input_from_viewers":true,
     "hide_output_from_viewers":true
    }
   }
  },
  {
   "cell_type":"code",
   "source":[
    "plt.xlabel('area')\n",
    "plt.ylabel('rent')\n",
    "plt.scatter(df['area'], df['rent'], color='cyan')\n",
    "plt.title('area and rent')\n",
    "\n",
    "plt.plot(df.area, model_.predict(x))"
   ],
   "execution_count":53,
   "outputs":[
    {
     "data":{
      "text\/plain":[
       "[<matplotlib.lines.Line2D at 0x7f63b02c76a0>]"
      ]
     },
     "metadata":{
      
     },
     "output_type":"display_data"
    },
    {
     "data":{
      "image\/png":"[encoded data removed]"
     },
     "metadata":{
      "image\/png":{
       
      }
     },
     "output_type":"display_data"
    }
   ],
   "metadata":{
    "datalore":{
     "node_id":"mJCViMTP5tU3ZOhFNSvQj6",
     "type":"CODE",
     "hide_input_from_viewers":true,
     "hide_output_from_viewers":true
    }
   }
  },
  {
   "cell_type":"code",
   "source":[
    "# checking error\n",
    "error = mean_squared_error(ytest, model_.predict(xtest))\n",
    "print(error)"
   ],
   "execution_count":61,
   "outputs":[
    {
     "name":"stdout",
     "text":[
      "10966747.463673007\n"
     ],
     "output_type":"stream"
    }
   ],
   "metadata":{
    "datalore":{
     "node_id":"0C3JSQIfjP5K8lUN5dq5mL",
     "type":"CODE",
     "hide_input_from_viewers":true,
     "hide_output_from_viewers":true
    }
   }
  },
  {
   "cell_type":"code",
   "source":[
    "# saving model \n",
    "import pickle as pk\n",
    "pk.dump(model_, open('rent_model', 'wb'))"
   ],
   "execution_count":62,
   "outputs":[
    
   ],
   "metadata":{
    "datalore":{
     "node_id":"kNvqn90d2wphO0r0O6DXnD",
     "type":"CODE",
     "hide_input_from_viewers":true,
     "hide_output_from_viewers":true
    }
   }
  }
 ],
 "metadata":{
  "kernelspec":{
   "display_name":"Python",
   "language":"python",
   "name":"python"
  },
  "datalore":{
   "version":1,
   "computation_mode":"JUPYTER",
   "package_manager":"pip",
   "base_environment":"default",
   "packages":[
    
   ]
  }
 },
 "nbformat":4,
 "nbformat_minor":4
}